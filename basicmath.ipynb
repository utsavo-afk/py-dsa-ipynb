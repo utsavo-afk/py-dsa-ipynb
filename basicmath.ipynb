{
 "cells": [
  {
   "cell_type": "code",
   "execution_count": 24,
   "id": "bcdbbfda",
   "metadata": {},
   "outputs": [],
   "source": [
    "import math as m"
   ]
  },
  {
   "cell_type": "code",
   "execution_count": null,
   "id": "b171b803",
   "metadata": {},
   "outputs": [
    {
     "name": "stdout",
     "output_type": "stream",
     "text": [
      "3\n"
     ]
    }
   ],
   "source": [
    "# count digits\n",
    "\"\"\"\n",
    "countDigits(123)\n",
    "→ 1 + countDigits(12)\n",
    "→ 1 + (1 + countDigits(1))\n",
    "→ 1 + (1 + (1 + countDigits(0)))\n",
    "→ 1 + (1 + (1 + 0)) = 3\n",
    "\"\"\"\n",
    "num=123\n",
    "def recur_countDigits(n):\n",
    "    if n==0:\n",
    "        return 0\n",
    "    else:\n",
    "        return 1+recur_countDigits(n=n//10)\n",
    "\n",
    "print(recur_countDigits(num))"
   ]
  },
  {
   "cell_type": "code",
   "execution_count": 20,
   "id": "56db1ab7",
   "metadata": {},
   "outputs": [
    {
     "name": "stdout",
     "output_type": "stream",
     "text": [
      "4\n"
     ]
    }
   ],
   "source": [
    "num=1234\n",
    "def countDigits(n):\n",
    "    count=0\n",
    "    while n>0:\n",
    "        count+=1\n",
    "        n//=10\n",
    "    return count\n",
    "\n",
    "print(countDigits(num))"
   ]
  },
  {
   "cell_type": "code",
   "execution_count": null,
   "id": "33926066",
   "metadata": {},
   "outputs": [
    {
     "name": "stdout",
     "output_type": "stream",
     "text": [
      "4321\n"
     ]
    }
   ],
   "source": [
    "# reverse a number\n",
    "def reverse_number(n):\n",
    "    rev=0\n",
    "    while n>0:\n",
    "        ld=n%10\n",
    "        rev=(rev*10)+ld\n",
    "        n//=10\n",
    "    print(rev)\n",
    "\n",
    "reverse_number(1234)"
   ]
  },
  {
   "cell_type": "code",
   "execution_count": 9,
   "id": "70356e73",
   "metadata": {},
   "outputs": [
    {
     "data": {
      "text/plain": [
       "True"
      ]
     },
     "execution_count": 9,
     "metadata": {},
     "output_type": "execute_result"
    }
   ],
   "source": [
    "def checkPalindrome(n):\n",
    "    dup=n\n",
    "    rev=0\n",
    "    while n>0:\n",
    "        ld=n%10\n",
    "        rev=(rev*10)+ld\n",
    "        n//=10\n",
    "    if rev==dup:\n",
    "        return True\n",
    "    else:\n",
    "        return False\n",
    "\n",
    "checkPalindrome(121)"
   ]
  },
  {
   "cell_type": "code",
   "execution_count": 10,
   "id": "7089bea7",
   "metadata": {},
   "outputs": [
    {
     "name": "stdout",
     "output_type": "stream",
     "text": [
      "8\n"
     ]
    }
   ],
   "source": [
    "def findGCD(n1,n2):\n",
    "    for i in range(min(n1,n2),0,-1):\n",
    "        if n1%i==0 and n2%i==0:\n",
    "            return i\n",
    "    return 1\n",
    "\n",
    "print(findGCD(24,32))"
   ]
  },
  {
   "cell_type": "code",
   "execution_count": 14,
   "id": "4bfa4bde",
   "metadata": {},
   "outputs": [
    {
     "name": "stdout",
     "output_type": "stream",
     "text": [
      "8\n",
      "0\n",
      "8\n"
     ]
    }
   ],
   "source": [
    "def findGCD2(n1,n2):\n",
    "    while n1>0 and n2>0:\n",
    "        if n1>n2:\n",
    "            n1%=n2\n",
    "        else:\n",
    "            print(n2%n1)\n",
    "            n2%=n1\n",
    "\n",
    "    if n1==0:\n",
    "        return n2\n",
    "    \n",
    "    return n1\n",
    "\n",
    "print(findGCD2(24,32))"
   ]
  },
  {
   "cell_type": "code",
   "execution_count": 18,
   "id": "9c6ac910",
   "metadata": {},
   "outputs": [
    {
     "name": "stdout",
     "output_type": "stream",
     "text": [
      "True\n"
     ]
    }
   ],
   "source": [
    "def checkArmstrong(n):\n",
    "    num=n\n",
    "    count=0\n",
    "    while n>0:\n",
    "        count+=1\n",
    "        n//=10\n",
    "    n=num\n",
    "    sum=0\n",
    "    while n>0:\n",
    "        ld=n%10\n",
    "        sum+=(pow(ld,count))\n",
    "        n//=10\n",
    "    if num==sum:\n",
    "        return True\n",
    "    else:\n",
    "        return False\n",
    "    \n",
    "print(checkArmstrong(371))"
   ]
  },
  {
   "cell_type": "code",
   "execution_count": 22,
   "id": "628fdc7c",
   "metadata": {},
   "outputs": [
    {
     "name": "stdout",
     "output_type": "stream",
     "text": [
      "False\n"
     ]
    }
   ],
   "source": [
    "def checkArmstrong2(n):\n",
    "    k=len(str(n))\n",
    "    num=n\n",
    "    sum=0\n",
    "    while n>0:\n",
    "        ld=n%10\n",
    "        sum+=(ld**k)\n",
    "        n//=10\n",
    "    \n",
    "    if sum==num:\n",
    "        return True\n",
    "    else:\n",
    "        return False\n",
    "    \n",
    "# print(checkArmstrong2(371))\n",
    "print(checkArmstrong2(88))"
   ]
  },
  {
   "cell_type": "code",
   "execution_count": 30,
   "id": "b4f6f323",
   "metadata": {},
   "outputs": [
    {
     "name": "stdout",
     "output_type": "stream",
     "text": [
      "1 22 2 11 11 2 22 1 "
     ]
    }
   ],
   "source": [
    "def printAllDivisors(n):\n",
    "    for i in range(1,n+1):\n",
    "        if n%i==0:\n",
    "            print(i,end=\" \")\n",
    "            if i!=n//i:\n",
    "                print(n//i, end=\" \")\n",
    "\n",
    "printAllDivisors(22)\n",
    "\n",
    "# 1 22 2 11 | 11 2 22 1\n",
    "# If we do less than sqrt of n we dont get this mirror image "
   ]
  },
  {
   "cell_type": "code",
   "execution_count": 27,
   "id": "8531587b",
   "metadata": {},
   "outputs": [
    {
     "data": {
      "text/plain": [
       "[1, 22, 2, 11]"
      ]
     },
     "execution_count": 27,
     "metadata": {},
     "output_type": "execute_result"
    }
   ],
   "source": [
    "def printDivisors(n):\n",
    "    divisors=[]\n",
    "    sqrtN=int(m.sqrt(n))\n",
    "    for i in range(1,sqrtN+1):\n",
    "        # print(i)\n",
    "        if n%i==0:\n",
    "            divisors.append(i)\n",
    "            if i != n // i:\n",
    "                divisors.append(n//i)\n",
    "    return divisors\n",
    "\n",
    "printDivisors(22)"
   ]
  },
  {
   "cell_type": "code",
   "execution_count": 40,
   "id": "86c2a595",
   "metadata": {},
   "outputs": [
    {
     "data": {
      "text/plain": [
       "True"
      ]
     },
     "execution_count": 40,
     "metadata": {},
     "output_type": "execute_result"
    }
   ],
   "source": [
    "def checkIsPrime(n):\n",
    "    divisors=[]\n",
    "    sqrtN=int(m.sqrt(n))\n",
    "    for i in range(1,sqrtN+1):\n",
    "        if n%i==0:\n",
    "            divisors.append(i)\n",
    "            if i!=n//i:\n",
    "                divisors.append(n//i)\n",
    "    if len(divisors)==2 and divisors[0]==1 and divisors[1]==n:\n",
    "        return True\n",
    "    else:\n",
    "        return False\n",
    "\n",
    "checkIsPrime(13)"
   ]
  }
 ],
 "metadata": {
  "kernelspec": {
   "display_name": "base",
   "language": "python",
   "name": "python3"
  },
  "language_info": {
   "codemirror_mode": {
    "name": "ipython",
    "version": 3
   },
   "file_extension": ".py",
   "mimetype": "text/x-python",
   "name": "python",
   "nbconvert_exporter": "python",
   "pygments_lexer": "ipython3",
   "version": "3.13.2"
  }
 },
 "nbformat": 4,
 "nbformat_minor": 5
}
