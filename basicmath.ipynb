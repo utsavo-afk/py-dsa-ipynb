{
 "cells": [
  {
   "cell_type": "code",
   "execution_count": null,
   "id": "b171b803",
   "metadata": {},
   "outputs": [
    {
     "name": "stdout",
     "output_type": "stream",
     "text": [
      "3\n"
     ]
    }
   ],
   "source": [
    "# count digits\n",
    "\"\"\"\n",
    "countDigits(123)\n",
    "→ 1 + countDigits(12)\n",
    "→ 1 + (1 + countDigits(1))\n",
    "→ 1 + (1 + (1 + countDigits(0)))\n",
    "→ 1 + (1 + (1 + 0)) = 3\n",
    "\"\"\"\n",
    "num=123\n",
    "def recur_countDigits(n):\n",
    "    if n==0:\n",
    "        return 0\n",
    "    else:\n",
    "        return 1+recur_countDigits(n=n//10)\n",
    "\n",
    "print(recur_countDigits(num))"
   ]
  },
  {
   "cell_type": "code",
   "execution_count": 20,
   "id": "56db1ab7",
   "metadata": {},
   "outputs": [
    {
     "name": "stdout",
     "output_type": "stream",
     "text": [
      "4\n"
     ]
    }
   ],
   "source": [
    "num=1234\n",
    "def countDigits(n):\n",
    "    count=0\n",
    "    while n>0:\n",
    "        count+=1\n",
    "        n//=10\n",
    "    return count\n",
    "\n",
    "print(countDigits(num))"
   ]
  }
 ],
 "metadata": {
  "kernelspec": {
   "display_name": "base",
   "language": "python",
   "name": "python3"
  },
  "language_info": {
   "codemirror_mode": {
    "name": "ipython",
    "version": 3
   },
   "file_extension": ".py",
   "mimetype": "text/x-python",
   "name": "python",
   "nbconvert_exporter": "python",
   "pygments_lexer": "ipython3",
   "version": "3.13.2"
  }
 },
 "nbformat": 4,
 "nbformat_minor": 5
}
