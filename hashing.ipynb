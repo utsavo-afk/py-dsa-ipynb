{
 "cells": [
  {
   "cell_type": "code",
   "execution_count": 8,
   "id": "a1b23e3d",
   "metadata": {},
   "outputs": [
    {
     "name": "stdout",
     "output_type": "stream",
     "text": [
      "10 occours 3 times\n",
      "5 occours 2 times\n",
      "15 occours 1 times\n"
     ]
    }
   ],
   "source": [
    "def countOccourance(arr):\n",
    "    count={}\n",
    "    for i in arr:\n",
    "        if i in count:\n",
    "            count[i]+=1\n",
    "        else:\n",
    "            count[i]=1\n",
    "    for k,v in count.items():\n",
    "        print(f\"{k} occours {v} times\")\n",
    "\n",
    "countOccourance([10,5,10,15,10,5])"
   ]
  },
  {
   "cell_type": "code",
   "execution_count": null,
   "id": "dcdf3d63",
   "metadata": {},
   "outputs": [
    {
     "name": "stdout",
     "output_type": "stream",
     "text": [
      "Max freq el:  2  Min freq el:  3\n"
     ]
    }
   ],
   "source": [
    "def countFreqMinMax(arr):\n",
    "    count={}\n",
    "    for i in arr:\n",
    "        if i in count:\n",
    "            count[i]+=1\n",
    "        else:\n",
    "            count[i]=1\n",
    "    \n",
    "    maxFreq,minFreq=float(\"-inf\"),float('inf')\n",
    "    maxEl,minEl=float(\"-inf\"),float(\"inf\")\n",
    "    for j,k in count.items():\n",
    "        if k>maxFreq: # doesnt update on tie use >=\n",
    "            maxEl=j\n",
    "            maxFreq=k\n",
    "        elif k<minFreq: # doesnt update on tie use <=\n",
    "            minEl=j\n",
    "            minFreq=k\n",
    "    print(\"Max freq el: \",maxEl, \" Min freq el: \",minEl)\n",
    "\n",
    "# countFreqMinMax([10,5,10,15,10,5])\n",
    "countFreqMinMax([2,2,3,4,4,2])"
   ]
  }
 ],
 "metadata": {
  "kernelspec": {
   "display_name": "base",
   "language": "python",
   "name": "python3"
  },
  "language_info": {
   "codemirror_mode": {
    "name": "ipython",
    "version": 3
   },
   "file_extension": ".py",
   "mimetype": "text/x-python",
   "name": "python",
   "nbconvert_exporter": "python",
   "pygments_lexer": "ipython3",
   "version": "3.13.2"
  }
 },
 "nbformat": 4,
 "nbformat_minor": 5
}
