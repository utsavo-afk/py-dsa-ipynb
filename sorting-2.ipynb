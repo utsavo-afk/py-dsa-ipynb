{
 "cells": [
  {
   "cell_type": "code",
   "execution_count": 3,
   "id": "7d503fa6",
   "metadata": {},
   "outputs": [
    {
     "data": {
      "text/plain": [
       "[1, 2, 3, 4, 5, 8, 23]"
      ]
     },
     "execution_count": 3,
     "metadata": {},
     "output_type": "execute_result"
    }
   ],
   "source": [
    "# merge sort divide and conquer\n",
    "# merge() merges 2 sorted arrays\n",
    "# merge_sort() divides array into 2 parts low->mid & mid+1->high\n",
    "def merge_sort(nums):\n",
    "    n=len(nums)\n",
    "    if n <= 1:\n",
    "        return nums\n",
    "\n",
    "    # split list in 2 halves\n",
    "    mid=n//2\n",
    "    left_half=nums[:mid]\n",
    "    right_half=nums[mid:]\n",
    "\n",
    "    # recursively sort\n",
    "    left_sorted=merge_sort(left_half)\n",
    "    right_sorted=merge_sort(right_half)\n",
    "\n",
    "    # merge sorted halves\n",
    "    return merge(left_sorted, right_sorted)\n",
    "\n",
    "def merge(left, right):\n",
    "    result=[]\n",
    "    i=j=0\n",
    "\n",
    "    len_left=len(left)\n",
    "    len_right=len(right)\n",
    "\n",
    "    # Compare elements from left and right and add the smaller one to result\n",
    "    while i<len_left and j<len_right:\n",
    "        if left[i]<right[j]:\n",
    "            result.append(left[i])\n",
    "            i+=1\n",
    "        else:\n",
    "            result.append(right[j])\n",
    "            j+=1\n",
    "    \n",
    "    # add remaining elements if any\n",
    "    result+=left[i:]\n",
    "    result+=right[j:]\n",
    "\n",
    "    return result\n",
    "\n",
    "    \n",
    "merge_sort([3,2,8,5,1,4,23])"
   ]
  },
  {
   "cell_type": "code",
   "execution_count": 19,
   "id": "3b606d3d",
   "metadata": {},
   "outputs": [
    {
     "data": {
      "text/plain": [
       "[9, 13, 20, 24, 46, 52]"
      ]
     },
     "execution_count": 19,
     "metadata": {},
     "output_type": "execute_result"
    }
   ],
   "source": [
    "# bubble sort recrusive\n",
    "\n",
    "def bubble_sort_recursive(nums,n):\n",
    "    if n==1:\n",
    "        return nums\n",
    "    for i in range(n):\n",
    "        for j in range(0,n-i-1):\n",
    "            if nums[j]>nums[j+1]:\n",
    "                nums[j],nums[j+1]=nums[j+1],nums[j]\n",
    "    return bubble_sort_recursive(nums,n-1)\n",
    "\n",
    "nums=[13, 46, 24, 52, 20, 9]\n",
    "n=len(nums)\n",
    "bubble_sort_recursive(nums,n)"
   ]
  }
 ],
 "metadata": {
  "kernelspec": {
   "display_name": "base",
   "language": "python",
   "name": "python3"
  },
  "language_info": {
   "codemirror_mode": {
    "name": "ipython",
    "version": 3
   },
   "file_extension": ".py",
   "mimetype": "text/x-python",
   "name": "python",
   "nbconvert_exporter": "python",
   "pygments_lexer": "ipython3",
   "version": "3.13.2"
  }
 },
 "nbformat": 4,
 "nbformat_minor": 5
}
