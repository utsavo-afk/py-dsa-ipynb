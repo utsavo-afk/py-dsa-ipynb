{
 "cells": [
  {
   "cell_type": "markdown",
   "id": "2468b6a8",
   "metadata": {},
   "source": [
    "The frequency of an element is the number of times it occurs in an array.\n",
    "\n",
    "You are given an integer array nums and an integer k. In one operation, you can choose an index of nums and increment the element at that index by 1.\n",
    "\n",
    "Return the maximum possible frequency of an element after performing at most k operations.\n",
    "\n",
    "Example 1:\n",
    "\n",
    "```\n",
    "Input: nums = [1,2,4], k = 5\n",
    "Output: 3\n",
    "Explanation: Increment the first element three times and the second element two times to make nums = [4,4,4].\n",
    "4 has a frequency of 3.\n",
    "```\n"
   ]
  },
  {
   "cell_type": "code",
   "execution_count": null,
   "id": "af520731",
   "metadata": {},
   "outputs": [
    {
     "data": {
      "text/plain": [
       "3"
      ]
     },
     "execution_count": 17,
     "metadata": {},
     "output_type": "execute_result"
    }
   ],
   "source": [
    "# https://leetcode.com/problems/frequency-of-the-most-frequent-element\n",
    "# nums =[1,2,4] k=5\n",
    "def maxFreq(nums,k):\n",
    "    nums.sort() # [1,2,4]\n",
    "    l=0\n",
    "    total=0\n",
    "    res=1\n",
    "\n",
    "    for r in range(1,len(nums)):\n",
    "        gap=nums[r]-nums[r-1] \n",
    "        total+=gap*(r-l)\n",
    "        while total > k:\n",
    "            total-=nums[r]-nums[l]\n",
    "            l+=1\n",
    "        res=max(res,r-l+1)\n",
    "    \n",
    "    return res\n",
    "\n",
    "maxFreq([1,2,4],k=5)"
   ]
  },
  {
   "cell_type": "code",
   "execution_count": 19,
   "id": "583d855c",
   "metadata": {},
   "outputs": [
    {
     "data": {
      "text/plain": [
       "4"
      ]
     },
     "execution_count": 19,
     "metadata": {},
     "output_type": "execute_result"
    }
   ],
   "source": [
    "def mostFrequentElement(nums):\n",
    "    maxFreq=float(\"-inf\")\n",
    "    maxEl=float(\"-inf\")\n",
    "    count={}\n",
    "    for n in nums:\n",
    "        if n in count:\n",
    "            count[n]+=1\n",
    "        else:\n",
    "            count[n]=1\n",
    "    for num,count in count.items():\n",
    "        if count>maxFreq:\n",
    "            maxFreq=count\n",
    "            maxEl=num\n",
    "        \n",
    "    return maxEl\n",
    "\n",
    "mostFrequentElement([1, 2, 2, 3, 3, 3])\n",
    "mostFrequentElement([4, 4, 5, 5, 6])"
   ]
  }
 ],
 "metadata": {
  "kernelspec": {
   "display_name": "base",
   "language": "python",
   "name": "python3"
  },
  "language_info": {
   "codemirror_mode": {
    "name": "ipython",
    "version": 3
   },
   "file_extension": ".py",
   "mimetype": "text/x-python",
   "name": "python",
   "nbconvert_exporter": "python",
   "pygments_lexer": "ipython3",
   "version": "3.13.2"
  }
 },
 "nbformat": 4,
 "nbformat_minor": 5
}
