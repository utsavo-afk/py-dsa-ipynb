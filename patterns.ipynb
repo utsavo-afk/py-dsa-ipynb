{
 "cells": [
  {
   "cell_type": "code",
   "execution_count": null,
   "id": "e06d70bc",
   "metadata": {},
   "outputs": [],
   "source": [
    "for i in range(5):\n",
    "    for j in range(5):\n",
    "        print(\"*\",end=\" \")\n",
    "    print()"
   ]
  },
  {
   "cell_type": "code",
   "execution_count": null,
   "id": "52835f15",
   "metadata": {},
   "outputs": [],
   "source": [
    "for i in range(5):\n",
    "    for j in range(i+1):\n",
    "        print(\"*\",end=\" \")\n",
    "    print()"
   ]
  },
  {
   "cell_type": "code",
   "execution_count": null,
   "id": "6e57812a",
   "metadata": {},
   "outputs": [],
   "source": [
    "for i in range(5):\n",
    "    for j in range(i+1):\n",
    "        print(j+1, end=\" \")\n",
    "    print()"
   ]
  },
  {
   "cell_type": "code",
   "execution_count": null,
   "id": "94d8576a",
   "metadata": {},
   "outputs": [],
   "source": [
    "for i in range(5):\n",
    "    for j in range(i+1):\n",
    "        print(i+1,end=\" \")\n",
    "    print()"
   ]
  },
  {
   "cell_type": "code",
   "execution_count": null,
   "id": "6c3519ae",
   "metadata": {},
   "outputs": [],
   "source": [
    "for i in range(5,0,-1):\n",
    "    for j in range(i):\n",
    "        print(\"*\",end=\" \")\n",
    "    print()"
   ]
  },
  {
   "cell_type": "code",
   "execution_count": null,
   "id": "86c81704",
   "metadata": {},
   "outputs": [],
   "source": [
    "for i in range(5,0,-1):\n",
    "    for j in range(i):\n",
    "        print(j+1,end=\" \")\n",
    "    print()"
   ]
  },
  {
   "cell_type": "code",
   "execution_count": null,
   "id": "d1a4e08b",
   "metadata": {},
   "outputs": [],
   "source": [
    "row=5\n",
    "for i in range(row):\n",
    "    # 0 1 2 3 4\n",
    "    for _ in range(row-i-1):\n",
    "        print(\" \",end=\" \")\n",
    "    for _ in range(2*i+1):\n",
    "        print(\"*\",end=\" \")\n",
    "    print()"
   ]
  },
  {
   "cell_type": "code",
   "execution_count": null,
   "id": "6e17a6e2",
   "metadata": {},
   "outputs": [],
   "source": [
    "row=5\n",
    "for i in range(row,0,-1):\n",
    "    for _ in range(row-i):\n",
    "        print(\" \",end=\" \")\n",
    "    for _ in range(2*i-1):\n",
    "        print(\"*\",end=\" \")\n",
    "    print()"
   ]
  },
  {
   "cell_type": "code",
   "execution_count": null,
   "id": "9e366e21",
   "metadata": {},
   "outputs": [],
   "source": [
    "row=5\n",
    "for i in range(row):\n",
    "    for _ in range(row-i-1):\n",
    "        print(\" \",end=\" \")\n",
    "    for _ in range(2*i+1):\n",
    "        print(\"*\",end=\" \")\n",
    "    print()\n",
    "\n",
    "for i in range(row,0,-1):\n",
    "    for _ in range(row-i):\n",
    "        print(\" \",end=\" \")\n",
    "    for _ in range(2*i-1):\n",
    "        print(\"*\",end=\" \")\n",
    "    print()"
   ]
  },
  {
   "cell_type": "code",
   "execution_count": null,
   "id": "b4bdbfd3",
   "metadata": {},
   "outputs": [],
   "source": [
    "row=5\n",
    "for i in range(2*row):\n",
    "    if i<row:\n",
    "        print(\"* \" * (i+1))\n",
    "    elif i>row:\n",
    "        print(\"* \" * (2*row-i))"
   ]
  },
  {
   "cell_type": "code",
   "execution_count": null,
   "id": "3b724f82",
   "metadata": {},
   "outputs": [],
   "source": [
    "row=5\n",
    "# 0 1 2 3 4\n",
    "for i in range(row):\n",
    "    # 0%2\n",
    "    if i%2==0:\n",
    "        # 1\n",
    "        start=1\n",
    "    else:\n",
    "        start=0\n",
    "    \n",
    "    # j -> 1\n",
    "    for j in range(i+1):\n",
    "        # 1\n",
    "        print(start,end=\" \")\n",
    "        # start=1-1=0   \n",
    "        start=1-start\n",
    "    \n",
    "    print()"
   ]
  },
  {
   "cell_type": "code",
   "execution_count": null,
   "id": "d1f35cbe",
   "metadata": {},
   "outputs": [],
   "source": [
    "row=6\n",
    "for i in range(row):\n",
    "    s=\"\"\n",
    "    for j in range(i+1):\n",
    "        s+=str(j+1)\n",
    "    s+=str(\" \" * (2*row-(2*i+2)))\n",
    "    for j in range(i+1,0,-1):\n",
    "        s+=str(j)\n",
    "    print(s)\n",
    "   "
   ]
  },
  {
   "cell_type": "code",
   "execution_count": null,
   "id": "59b6070f",
   "metadata": {},
   "outputs": [],
   "source": [
    "row=5\n",
    "count=0\n",
    "for i in range(row):\n",
    "    for _ in range(i+1):\n",
    "        count+=1\n",
    "        print(count, end=\" \")\n",
    "    print()"
   ]
  },
  {
   "cell_type": "code",
   "execution_count": null,
   "id": "4eebb6cc",
   "metadata": {},
   "outputs": [],
   "source": [
    "row=5\n",
    "for i in range(row):\n",
    "    for j in range(i+1):\n",
    "        print(chr(ord('A')+j), end=\" \")\n",
    "    print()"
   ]
  },
  {
   "cell_type": "code",
   "execution_count": null,
   "id": "778a1a33",
   "metadata": {},
   "outputs": [],
   "source": [
    "row=5\n",
    "for i in range(row):\n",
    "    for j in range(row-(i+1)+1):\n",
    "        print(chr(ord('A')+j), end=\" \")\n",
    "    print()"
   ]
  },
  {
   "cell_type": "code",
   "execution_count": null,
   "id": "8606367e",
   "metadata": {},
   "outputs": [],
   "source": [
    "row=5\n",
    "for i in range(row):\n",
    "    for _ in range(i+1):\n",
    "        print(chr(ord('A')+i),end=\" \")\n",
    "    print()"
   ]
  },
  {
   "cell_type": "code",
   "execution_count": null,
   "id": "fed78c67",
   "metadata": {},
   "outputs": [],
   "source": [
    "row=5\n",
    "for i in range(row):\n",
    "    s=\"\"\n",
    "    s+=\" \"*(row-i-1)\n",
    "    for j in range(2*i+1):\n",
    "        if j<=i:\n",
    "            ch=ord('A')+j\n",
    "            s+=chr(ch)\n",
    "        else:\n",
    "            ch-=1\n",
    "            s+=chr(ch)\n",
    "            \n",
    "    s+=\" \"*(row-i-1)\n",
    "    print(s)\n",
    "    print()"
   ]
  },
  {
   "cell_type": "code",
   "execution_count": null,
   "id": "b20c0ac4",
   "metadata": {},
   "outputs": [],
   "source": [
    "row=5\n",
    "for i in range(row):\n",
    "    ch=ord('A')+row-i-1\n",
    "    for j in range(i+1):\n",
    "        print(chr(ch+j),end=\" \")\n",
    "    print()"
   ]
  },
  {
   "cell_type": "code",
   "execution_count": null,
   "id": "63f72a4d",
   "metadata": {},
   "outputs": [],
   "source": [
    "row=5\n",
    "count=1\n",
    "while count<=row:\n",
    "    for i in range(row):\n",
    "        for _ in range(row-i):\n",
    "            print(\"*\",end=\" \")\n",
    "        for _ in range(i*2):\n",
    "            print(\" \",end=\" \")\n",
    "        for _ in range(row-i):\n",
    "            print(\"*\",end=\" \")\n",
    "        count+=1\n",
    "        print()\n",
    "else:\n",
    "    for i in range(row):\n",
    "        for _ in range(i+1):\n",
    "            print(\"*\", end=\" \")\n",
    "        for _ in range(2*row-(2*i)-2):\n",
    "            print(\" \",end=\" \")\n",
    "        for _ in range(i+1):\n",
    "            print(\"*\", end=\" \")\n",
    "        print()\n",
    "\n"
   ]
  },
  {
   "cell_type": "code",
   "execution_count": null,
   "id": "afd2aada",
   "metadata": {},
   "outputs": [],
   "source": [
    "row=5\n",
    "count=1\n",
    "while count<=row:\n",
    "    for i in range(row):\n",
    "        for _ in range(i+1):\n",
    "            print(\"*\",end=\" \")\n",
    "        for _ in range(2*row-(2*i)-2):\n",
    "            print(\" \",end=\" \")\n",
    "        for _ in range(i+1):\n",
    "            print(\"*\",end=\" \")\n",
    "        count+=1\n",
    "        print()\n",
    "else:\n",
    "    for i in range(row-1,0,-1):\n",
    "        for _ in range(i):\n",
    "            print(\"*\",end=\" \")\n",
    "        for _ in range((2*row)-(2*i)):\n",
    "            print(\" \",end=\" \")\n",
    "        for _ in range(i):\n",
    "            print(\"*\",end=\" \")\n",
    "        print()\n",
    "            "
   ]
  },
  {
   "cell_type": "code",
   "execution_count": null,
   "id": "7899bb9c",
   "metadata": {},
   "outputs": [],
   "source": [
    "row=5\n",
    "for i in range(row):\n",
    "    if i==0 or i==row-1:\n",
    "        for _ in range(row):\n",
    "            print(\"*\",end=\"\")\n",
    "    else:\n",
    "        print(\"*\",end=\"\")\n",
    "        print(\" \"*(row-2),end=\"\")\n",
    "        print(\"*\",end=\"\")\n",
    "    print()"
   ]
  }
 ],
 "metadata": {
  "kernelspec": {
   "display_name": "base",
   "language": "python",
   "name": "python3"
  },
  "language_info": {
   "codemirror_mode": {
    "name": "ipython",
    "version": 3
   },
   "file_extension": ".py",
   "mimetype": "text/x-python",
   "name": "python",
   "nbconvert_exporter": "python",
   "pygments_lexer": "ipython3",
   "version": "3.13.2"
  }
 },
 "nbformat": 4,
 "nbformat_minor": 5
}
