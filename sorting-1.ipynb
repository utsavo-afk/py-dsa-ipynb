{
 "cells": [
  {
   "cell_type": "code",
   "execution_count": null,
   "id": "457d0aad",
   "metadata": {},
   "outputs": [
    {
     "data": {
      "text/plain": [
       "[9, 13, 20, 24, 46, 52]"
      ]
     },
     "execution_count": 3,
     "metadata": {},
     "output_type": "execute_result"
    }
   ],
   "source": [
    "# Selection Sort\n",
    "#   min\n",
    "#   ⬇︎ <-----j----->\n",
    "# [13,46,24,52,20,9]\n",
    "#   min\n",
    "#   ⬇︎            j\n",
    "# [13,46,24,52,20,9]\n",
    "#    min\n",
    "#    ⬇︎  j          \n",
    "# [9,46,24,52,20,13]\n",
    "#    min\n",
    "#    ⬇︎        j    \n",
    "# [9,24,46,52,20,13]\n",
    "#    min\n",
    "#    ⬇︎           j    \n",
    "# [9,13,46,52,24,20]\n",
    "#      min\n",
    "#       ⬇︎     j            \n",
    "# [9,13,46,52,24,20]\n",
    "#       min\n",
    "#       ⬇︎        j            \n",
    "# [9,13,24,52,46,20]\n",
    "#          min\n",
    "#          ⬇︎  j            \n",
    "# [9,13,20,52,46,24]\n",
    "#          min\n",
    "#          ⬇︎     j            \n",
    "# [9,13,20,46,54,24]\n",
    "#             min\n",
    "#             ⬇︎   j           \n",
    "# [9,13,20,24,54,46]\n",
    "#                \n",
    "# SORTED          \n",
    "# [9,13,20,24,46,54]\n",
    "\n",
    "\n",
    "\n",
    "def selectionSort(nums):\n",
    "    for i in range(len(nums)):\n",
    "        min_index=i #0\n",
    "        for j in range(i+1,len(nums)):\n",
    "            if nums[j] < nums[min_index]:\n",
    "                nums[min_index],nums[j]=nums[j],nums[min_index]\n",
    "    \n",
    "    return nums\n",
    "\n",
    "selectionSort([13,46,24,52,20,9])"
   ]
  },
  {
   "cell_type": "code",
   "execution_count": 27,
   "id": "6069312c",
   "metadata": {},
   "outputs": [
    {
     "name": "stdout",
     "output_type": "stream",
     "text": [
      "[9, 13, 20, 24, 46, 52]\n"
     ]
    }
   ],
   "source": [
    "# Bubble sort\n",
    "\n",
    "def bubbleSort(nums):\n",
    "    n=len(nums)\n",
    "    for i in range(n):\n",
    "        for j in range(0,n-i-1):\n",
    "            if nums[j]>nums[j+1]:\n",
    "                nums[j],nums[j+1]=nums[j+1],nums[j]\n",
    "    \n",
    "    return nums\n",
    "\n",
    "print(bubbleSort([9, 13, 20, 24, 46, 52]))\n",
    "# print(bubbleSort([1,2,3,4,5]))"
   ]
  }
 ],
 "metadata": {
  "kernelspec": {
   "display_name": "base",
   "language": "python",
   "name": "python3"
  },
  "language_info": {
   "codemirror_mode": {
    "name": "ipython",
    "version": 3
   },
   "file_extension": ".py",
   "mimetype": "text/x-python",
   "name": "python",
   "nbconvert_exporter": "python",
   "pygments_lexer": "ipython3",
   "version": "3.13.2"
  }
 },
 "nbformat": 4,
 "nbformat_minor": 5
}
