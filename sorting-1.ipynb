{
 "cells": [
  {
   "cell_type": "code",
   "execution_count": null,
   "id": "457d0aad",
   "metadata": {},
   "outputs": [
    {
     "data": {
      "text/plain": [
       "[9, 13, 20, 24, 46, 52]"
      ]
     },
     "execution_count": 3,
     "metadata": {},
     "output_type": "execute_result"
    }
   ],
   "source": [
    "def selection_sort(nums):\n",
    "    for i in range(len(nums)):\n",
    "        min_index=i #0\n",
    "        for j in range(i+1,len(nums)):\n",
    "            if nums[j] < nums[min_index]:\n",
    "                nums[min_index],nums[j]=nums[j],nums[min_index]\n",
    "    return nums\n",
    "\n",
    "selection_sort([13,46,24,52,20,9])"
   ]
  },
  {
   "cell_type": "code",
   "execution_count": null,
   "id": "6069312c",
   "metadata": {},
   "outputs": [
    {
     "name": "stdout",
     "output_type": "stream",
     "text": [
      "[9, 13, 20, 24, 46, 52]\n"
     ]
    }
   ],
   "source": [
    "# Bubble sort\n",
    "def bubble_sort(nums):\n",
    "    n=len(nums)\n",
    "    for i in range(n):\n",
    "        for j in range(0,n-i-1):\n",
    "            if nums[j]>nums[j+1]:\n",
    "                nums[j],nums[j+1]=nums[j+1],nums[j]\n",
    "    return nums\n",
    "\n",
    "print(bubble_sort([9, 13, 20, 24, 46, 52]))"
   ]
  },
  {
   "cell_type": "code",
   "execution_count": 1,
   "id": "97e7a601",
   "metadata": {},
   "outputs": [
    {
     "data": {
      "text/plain": [
       "[9, 13, 20, 24, 46, 52]"
      ]
     },
     "execution_count": 1,
     "metadata": {},
     "output_type": "execute_result"
    }
   ],
   "source": [
    "# insertion sort\n",
    "def insertion_sort(nums):\n",
    "    n=len(nums)\n",
    "    for i in range(n):\n",
    "        j=i\n",
    "        while j>0 and nums[j-1]>nums[j]:\n",
    "            nums[j],nums[j-1]=nums[j-1],nums[j]\n",
    "            j-=1\n",
    "    return nums\n",
    "\n",
    "insertion_sort([13, 46, 24, 52, 20, 9])"
   ]
  }
 ],
 "metadata": {
  "kernelspec": {
   "display_name": "base",
   "language": "python",
   "name": "python3"
  },
  "language_info": {
   "codemirror_mode": {
    "name": "ipython",
    "version": 3
   },
   "file_extension": ".py",
   "mimetype": "text/x-python",
   "name": "python",
   "nbconvert_exporter": "python",
   "pygments_lexer": "ipython3",
   "version": "3.13.2"
  }
 },
 "nbformat": 4,
 "nbformat_minor": 5
}
