{
 "cells": [
  {
   "cell_type": "code",
   "execution_count": null,
   "id": "dd15c537",
   "metadata": {},
   "outputs": [
    {
     "name": "stdout",
     "output_type": "stream",
     "text": [
      "1\n",
      "2\n",
      "3\n",
      "4\n",
      "5\n"
     ]
    }
   ],
   "source": [
    "# print 1toN\n",
    "def print_i_to_n(i,n):\n",
    "    if i > n:\n",
    "        return\n",
    "    print(i)\n",
    "    return print_i_to_n(i+1,n)\n",
    "\n",
    "print_i_to_n(1,5)"
   ]
  },
  {
   "cell_type": "code",
   "execution_count": 4,
   "id": "0e4c4ce3",
   "metadata": {},
   "outputs": [
    {
     "name": "stdout",
     "output_type": "stream",
     "text": [
      "5\n",
      "4\n",
      "3\n",
      "2\n",
      "1\n",
      "0\n",
      "-1\n",
      "-2\n",
      "-3\n",
      "-4\n",
      "-5\n"
     ]
    }
   ],
   "source": [
    "# print NtoI\n",
    "def print_n_to_i(n,i):\n",
    "    if n<i:\n",
    "        return\n",
    "    print(n)\n",
    "    return print_n_to_i(n-1,i)\n",
    "\n",
    "print_n_to_i(5,-5)"
   ]
  },
  {
   "cell_type": "code",
   "execution_count": 6,
   "id": "a4e2d2bd",
   "metadata": {},
   "outputs": [
    {
     "data": {
      "text/plain": [
       "10"
      ]
     },
     "execution_count": 6,
     "metadata": {},
     "output_type": "execute_result"
    }
   ],
   "source": [
    "# print sum of first n numbers\n",
    "def sumOfN(i,n,sum=0):\n",
    "    if i >n:\n",
    "        return sum\n",
    "    sum+=i\n",
    "    return sumOfN(i+1,n,sum)\n",
    "\n",
    "sumOfN(1,4)"
   ]
  },
  {
   "cell_type": "code",
   "execution_count": 9,
   "id": "fa7e5ae6",
   "metadata": {},
   "outputs": [
    {
     "name": "stdout",
     "output_type": "stream",
     "text": [
      "10\n"
     ]
    }
   ],
   "source": [
    "# print sum of first N numbers\n",
    "def sumOfN_2(n,sum=0):\n",
    "    if n<1:\n",
    "        print(sum)\n",
    "        return\n",
    "    return sumOfN_2(n-1,sum+n)\n",
    "\n",
    "sumOfN_2(4)"
   ]
  },
  {
   "cell_type": "code",
   "execution_count": null,
   "id": "64ba485e",
   "metadata": {},
   "outputs": [
    {
     "data": {
      "text/plain": [
       "10"
      ]
     },
     "execution_count": 10,
     "metadata": {},
     "output_type": "execute_result"
    }
   ],
   "source": [
    "# print sum of first N\n",
    "def sumOfN_3(n):\n",
    "    if n==0:\n",
    "        return 0\n",
    "    return n + sumOfN_3(n-1)\n",
    "\n",
    "sumOfN_3(4)\n",
    "\n",
    "# sumOfN_3(0) -> 0\n",
    "# sumOfN_3(1) -> 1 + sumOfN_3(0) <- 0\n",
    "# sumOfN_3(2) -> 2 + sumOfN_3(1) <- 2 + 1 + 0\n",
    "# sumOfN_3(3) -> 3 + sumOfN_3(2) <- 3 + 2 + 1 + 0\n",
    "# sumOfN_3(4) -> 4 + sumOfN_3(3) <- 4 + 3 + 2 + 1 + 0\n",
    "# sumOfN_3(5) -> 5 + sumOfN_3(4) <- 5 + 4 + 3 + 2 + 1 + 0\n",
    "# 15 Final output"
   ]
  },
  {
   "cell_type": "code",
   "execution_count": 14,
   "id": "9e182701",
   "metadata": {},
   "outputs": [
    {
     "name": "stdout",
     "output_type": "stream",
     "text": [
      "6\n"
     ]
    }
   ],
   "source": [
    "# factorial of first N\n",
    "def facN(n):\n",
    "    if n == 0:\n",
    "        return 1\n",
    "    return n * facN(n-1)\n",
    "\n",
    "print(facN(3))"
   ]
  },
  {
   "cell_type": "code",
   "execution_count": 17,
   "id": "9ae64e3c",
   "metadata": {},
   "outputs": [
    {
     "data": {
      "text/plain": [
       "120"
      ]
     },
     "execution_count": 17,
     "metadata": {},
     "output_type": "execute_result"
    }
   ],
   "source": [
    "# iterative facN\n",
    "def facN_iter(n):\n",
    "    fac=1\n",
    "    for i in range(n):\n",
    "        fac *= (i+1)\n",
    "    return fac\n",
    "\n",
    "facN_iter(5)"
   ]
  },
  {
   "cell_type": "code",
   "execution_count": 21,
   "id": "28db5423",
   "metadata": {},
   "outputs": [
    {
     "name": "stdout",
     "output_type": "stream",
     "text": [
      "[3, 4, 3, 2, 1]\n"
     ]
    }
   ],
   "source": [
    "# reverse an array\n",
    "def revArr_iter(arr):\n",
    "    for i in range(len(arr)):\n",
    "        start,end=i,len(arr)-(i+1)\n",
    "        if start < end:\n",
    "            arr[start],arr[end] = arr[end],arr[start]\n",
    "    return arr\n",
    "\n",
    "print(revArr_iter([1,2,3,4,3]))"
   ]
  },
  {
   "cell_type": "code",
   "execution_count": null,
   "id": "49bc0209",
   "metadata": {},
   "outputs": [
    {
     "name": "stdout",
     "output_type": "stream",
     "text": [
      "start 0- end 5\n",
      "start 1- end 4\n",
      "start 2- end 3\n",
      "[3, 5, 4, 1, 2, 1]\n"
     ]
    }
   ],
   "source": [
    "def revArr(arr,i=0):\n",
    "    if i >= len(arr)-(i+1):\n",
    "        return arr\n",
    "    start,end=i,len(arr)-(i+1)\n",
    "    arr[start],arr[end]=arr[end],arr[start]\n",
    "    return revArr(arr,i+1)\n",
    "\n",
    "print(revArr([1,2,1,4,5,3]))\n"
   ]
  },
  {
   "cell_type": "code",
   "execution_count": 38,
   "id": "8e9ee49a",
   "metadata": {},
   "outputs": [
    {
     "data": {
      "text/plain": [
       "True"
      ]
     },
     "execution_count": 38,
     "metadata": {},
     "output_type": "execute_result"
    }
   ],
   "source": [
    "# check palindrom recrsive\n",
    "def checkPalindrom(s,i=0):\n",
    "    if i>=len(s)-(i+1):\n",
    "        return True\n",
    "    start,end=i,len(s)-(i+1)\n",
    "    if s[start].lower() != s[end].lower():\n",
    "        return False\n",
    "    return checkPalindrom(s,i=i+1)\n",
    "\n",
    "checkPalindrom(\"ABCDCBA\")"
   ]
  },
  {
   "cell_type": "code",
   "execution_count": 54,
   "id": "3dcc92c6",
   "metadata": {},
   "outputs": [
    {
     "name": "stdout",
     "output_type": "stream",
     "text": [
      "Fibonacci upto 10th term: \n",
      "0   1   1   2   3   5   8   13   21   34   55   "
     ]
    }
   ],
   "source": [
    "# 0 1 1 2 3\n",
    "def fibIter(n):\n",
    "    if n == 0:\n",
    "        print(\"Fibonacci upto \",n,\"th term: \")\n",
    "        print(0)\n",
    "        return\n",
    "    else:\n",
    "        secl=0\n",
    "        last=1\n",
    "        print(f\"Fibonacci upto {n}th term: \")\n",
    "        print(secl, \" \" , last, \" \",  end=\" \")\n",
    "        curr=None\n",
    "        for _ in range(2,n+1):\n",
    "            curr=last+secl\n",
    "            secl=last\n",
    "            last=curr\n",
    "            print(curr, \" \", end=\" \")\n",
    "\n",
    "fibIter(10)"
   ]
  },
  {
   "cell_type": "code",
   "execution_count": null,
   "id": "384408bb",
   "metadata": {},
   "outputs": [
    {
     "name": "stdout",
     "output_type": "stream",
     "text": [
      "55\n"
     ]
    }
   ],
   "source": [
    "# 5\n",
    "def fibN(n):\n",
    "    if n <= 1:\n",
    "        return n\n",
    "    last=fibN(n-1) # fibN(5-1)\n",
    "    secl=fibN(n-2) # fibN(5-2)\n",
    "    return last+secl # fibN(4)+fibN(3)\n",
    "\n",
    "print(fibN(10))"
   ]
  }
 ],
 "metadata": {
  "kernelspec": {
   "display_name": "base",
   "language": "python",
   "name": "python3"
  },
  "language_info": {
   "codemirror_mode": {
    "name": "ipython",
    "version": 3
   },
   "file_extension": ".py",
   "mimetype": "text/x-python",
   "name": "python",
   "nbconvert_exporter": "python",
   "pygments_lexer": "ipython3",
   "version": "3.13.2"
  }
 },
 "nbformat": 4,
 "nbformat_minor": 5
}
